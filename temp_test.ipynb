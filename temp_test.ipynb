{
 "cells": [
  {
   "cell_type": "code",
   "execution_count": 1,
   "metadata": {},
   "outputs": [],
   "source": [
    "import casadi as ca\n",
    "from pyecca.lie import so3, r3, se3\n",
    "# from pyecca.lie.util import DirectProduct\n",
    "from pyecca.lie.so3 import Quat, Dcm, Euler, Mrp\n",
    "# from pyecca.lie.r3 import R3\n",
    "# from pyecca.lie.se3 import SE3\n",
    "# from pyecca.test import test_lie\n",
    "from pyecca.lie.se3 import *\n",
    "import numpy as np\n",
    "from casadi.tools.graph import graph, dotdraw\n",
    "import os\n",
    "import pydot"
   ]
  },
  {
   "cell_type": "code",
   "execution_count": 2,
   "metadata": {},
   "outputs": [
    {
     "data": {
      "text/plain": [
       "SX(@1=0, \n",
       "[[@1, -6, 5, 1], \n",
       " [6, @1, -4, 2], \n",
       " [-5, 4, @1, 3], \n",
       " [@1, @1, @1, @1]])"
      ]
     },
     "execution_count": 2,
     "metadata": {},
     "output_type": "execute_result"
    }
   ],
   "source": [
    "x = ca.SX.sym('x')\n",
    "y = ca.SX.sym('y')\n",
    "z = ca.SX.sym('z')\n",
    "theta_1 = ca.SX.sym('theta_1')\n",
    "theta_2 = ca.SX.sym('theta_2')\n",
    "theta_3 = ca.SX.sym('theta_3')\n",
    "\n",
    "vect = [theta_1,theta_2, theta_3,x,y,z]\n",
    "vect = [4,5,6,1,2,3]\n",
    "vect_hat = SE3.wedge(vect) #se3 lie group wedge operator\n",
    "vect_hat "
   ]
  },
  {
   "cell_type": "code",
   "execution_count": 3,
   "metadata": {},
   "outputs": [
    {
     "data": {
      "text/plain": [
       "SX(@1=0, \n",
       "[[-0.422961, 0.0528417, 0.904606, 1.68665], \n",
       " [0.880247, -0.213016, 0.424015, 1.93259], \n",
       " [0.215101, 0.975619, 0.0435836, 2.59841], \n",
       " [@1, @1, @1, 1]])"
      ]
     },
     "execution_count": 3,
     "metadata": {},
     "output_type": "execute_result"
    }
   ],
   "source": [
    "expterm = SE3.exp(vect_hat)\n",
    "expterm"
   ]
  },
  {
   "cell_type": "code",
   "execution_count": 5,
   "metadata": {},
   "outputs": [
    {
     "data": {
      "text/plain": [
       "SX(@1=0, \n",
       "[[00, -1.70379, 1.41982, 1.47426], \n",
       " [1.70379, 00, -1.13586, 2.05579], \n",
       " [-1.41982, 1.13586, 00, 2.63733], \n",
       " [@1, @1, @1, @1]])"
      ]
     },
     "execution_count": 5,
     "metadata": {},
     "output_type": "execute_result"
    }
   ],
   "source": [
    "log_of_exp = SE3.log(expterm)\n",
    "log_of_exp"
   ]
  },
  {
   "cell_type": "code",
   "execution_count": null,
   "metadata": {},
   "outputs": [],
   "source": []
  },
  {
   "cell_type": "code",
   "execution_count": 7,
   "metadata": {},
   "outputs": [
    {
     "data": {
      "text/plain": [
       "SX(@1=0, \n",
       "[[@1, -6, 5], \n",
       " [6, @1, -4], \n",
       " [-5, 4, @1]])"
      ]
     },
     "execution_count": 7,
     "metadata": {},
     "output_type": "execute_result"
    }
   ],
   "source": []
  },
  {
   "cell_type": "code",
   "execution_count": null,
   "metadata": {},
   "outputs": [],
   "source": []
  }
 ],
 "metadata": {
  "kernelspec": {
   "display_name": "Python 3",
   "language": "python",
   "name": "python3"
  },
  "language_info": {
   "codemirror_mode": {
    "name": "ipython",
    "version": 3
   },
   "file_extension": ".py",
   "mimetype": "text/x-python",
   "name": "python",
   "nbconvert_exporter": "python",
   "pygments_lexer": "ipython3",
   "version": "3.10.6"
  },
  "orig_nbformat": 4
 },
 "nbformat": 4,
 "nbformat_minor": 2
}
