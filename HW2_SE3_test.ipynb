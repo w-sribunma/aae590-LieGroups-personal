{
 "cells": [
  {
   "cell_type": "code",
   "execution_count": 1,
   "metadata": {},
   "outputs": [],
   "source": [
    "# import numpy as np\n",
    "import sympy as sy\n",
    "import casadi as ca\n",
    "from SE3Lie_ca import se3, SE3, dot_plot_draw, so3_wedge, so3_vee"
   ]
  },
  {
   "cell_type": "code",
   "execution_count": 2,
   "metadata": {},
   "outputs": [
    {
     "data": {
      "text/plain": [
       "SX(@1=0, \n",
       "[[@1, -0.3, 0.2, 1], \n",
       " [0.3, @1, -0.1, 2], \n",
       " [-0.2, 0.1, @1, 3], \n",
       " [@1, @1, @1, @1]])"
      ]
     },
     "execution_count": 2,
     "metadata": {},
     "output_type": "execute_result"
    }
   ],
   "source": [
    "x = ca.SX.sym('x')\n",
    "y = ca.SX.sym('y')\n",
    "z = ca.SX.sym('z')\n",
    "theta_1 = ca.SX.sym('theta_1')\n",
    "theta_2 = ca.SX.sym('theta_2')\n",
    "theta_3 = ca.SX.sym('theta_3')\n",
    "\n",
    "vect_sym = [x,y,z,theta_1,theta_2, theta_3]\n",
    "vect = [1,2,3,0.1,0.2,0.3]\n",
    "vect_hat = se3.wedge(vect) #se3 lie group wedge operator\n",
    "vect_hat "
   ]
  },
  {
   "attachments": {},
   "cell_type": "markdown",
   "metadata": {},
   "source": [
    "Part 1:     \n",
    "$log(exp([x]^{\\wedge})) = [x]^{\\wedge}$"
   ]
  },
  {
   "cell_type": "code",
   "execution_count": 3,
   "metadata": {},
   "outputs": [
    {
     "data": {
      "text/plain": [
       "SX(@1=0, \n",
       "[[00, -0.3, 0.2, 1], \n",
       " [0.3, 00, -0.1, 2], \n",
       " [-0.2, 0.1, 00, 3], \n",
       " [@1, @1, @1, @1]])"
      ]
     },
     "execution_count": 3,
     "metadata": {},
     "output_type": "execute_result"
    }
   ],
   "source": [
    "x_wedge_logexp = SE3.log(se3.exp(vect_hat))\n",
    "x_wedge_logexp #log(exp([x]^))"
   ]
  },
  {
   "cell_type": "code",
   "execution_count": 4,
   "metadata": {},
   "outputs": [
    {
     "data": {
      "text/plain": [
       "SX(@1=0, \n",
       "[[@1, -0.3, 0.2, 1], \n",
       " [0.3, @1, -0.1, 2], \n",
       " [-0.2, 0.1, @1, 3], \n",
       " [@1, @1, @1, @1]])"
      ]
     },
     "execution_count": 4,
     "metadata": {},
     "output_type": "execute_result"
    }
   ],
   "source": [
    "x_hat = se3.wedge(vect) # [x]^\n",
    "x_hat"
   ]
  },
  {
   "cell_type": "markdown",
   "metadata": {},
   "source": []
  },
  {
   "attachments": {},
   "cell_type": "markdown",
   "metadata": {},
   "source": [
    "Part 2:     \n",
    "$Ad(exp([x]^{\\wedge})) = exp(ad([x]^{\\wedge}))$"
   ]
  },
  {
   "cell_type": "code",
   "execution_count": 5,
   "metadata": {},
   "outputs": [
    {
     "data": {
      "text/plain": [
       "SX(@1=0.935755, @2=0.302933, @3=-0.18054, @4=0, @5=-0.283165, @6=0.950581, @7=0.127335, @8=0.210192, @9=-0.0680313, @10=0.97529, \n",
       "[[@1, @5, @8, -1.26988, -2.59707, 2.15467], \n",
       " [@2, @6, @9, 2.9878, -0.976829, -0.344715], \n",
       " [@3, @7, @10, -1.56858, 1.51691, -0.488415], \n",
       " [@4, @4, @4, @1, @5, @8], \n",
       " [@4, @4, @4, @2, @6, @9], \n",
       " [@4, @4, @4, @3, @7, @10]])"
      ]
     },
     "execution_count": 5,
     "metadata": {},
     "output_type": "execute_result"
    }
   ],
   "source": [
    "big_Ad = SE3.Ad(se3.exp(se3.wedge(vect))) #Ad(exp([x]^)\n",
    "big_Ad"
   ]
  },
  {
   "cell_type": "code",
   "execution_count": 6,
   "metadata": {},
   "outputs": [
    {
     "data": {
      "text/plain": [
       "SX(@1=0.3, @2=-0.2, @3=-0.3, @4=0.1, @5=0.2, @6=-0.1, \n",
       "[[00, @3, @5, 00, -3, 2], \n",
       " [@1, 00, @6, 3, 00, -1], \n",
       " [@2, @4, 00, -2, 1, 00], \n",
       " [00, 00, 00, 00, @3, @5], \n",
       " [00, 00, 00, @1, 00, @6], \n",
       " [00, 00, 00, @2, @4, 00]])"
      ]
     },
     "execution_count": 6,
     "metadata": {},
     "output_type": "execute_result"
    }
   ],
   "source": [
    "# se(3) adjoint matrix (vee input)\n",
    "ad = se3.ad_matrix(vect)\n",
    "ad"
   ]
  },
  {
   "cell_type": "code",
   "execution_count": 7,
   "metadata": {},
   "outputs": [
    {
     "data": {
      "text/plain": [
       "SX(@1=0.935755, @2=0.302933, @3=-0.18054, @4=0, @5=-0.283165, @6=0.950581, @7=0.127335, @8=0.210192, @9=-0.0680313, @10=0.97529, \n",
       "[[@1, @5, @8, 0.0642452, 2.28316, 2.78981], \n",
       " [@2, @6, @9, -1.87151, 0.56633, -0.420383], \n",
       " [@3, @7, @10, -2.80726, 0.849495, -0.630575], \n",
       " [@4, @4, @4, @1, @5, @8], \n",
       " [@4, @4, @4, @2, @6, @9], \n",
       " [@4, @4, @4, @3, @7, @10]])"
      ]
     },
     "execution_count": 7,
     "metadata": {},
     "output_type": "execute_result"
    }
   ],
   "source": [
    "exp_ad = se3.exp_Ad(ad) #exp(ad([x]^))\n",
    "exp_ad"
   ]
  },
  {
   "cell_type": "code",
   "execution_count": null,
   "metadata": {},
   "outputs": [],
   "source": []
  },
  {
   "attachments": {},
   "cell_type": "markdown",
   "metadata": {},
   "source": [
    "Part 3:     \n",
    "$ad(x)*y = - ad(y)*x$\n"
   ]
  },
  {
   "cell_type": "code",
   "execution_count": 8,
   "metadata": {},
   "outputs": [],
   "source": [
    "# x and y vee vector\n",
    "x_test= [1,2,3,0.1,0.2,0.3]\n",
    "y_test= [4,5,6,0.4,0.5,0.6]"
   ]
  },
  {
   "cell_type": "code",
   "execution_count": 9,
   "metadata": {},
   "outputs": [
    {
     "data": {
      "text/plain": [
       "SX([-0.6, 1.2, -0.6, -0.03, 0.06, -0.03])"
      ]
     },
     "execution_count": 9,
     "metadata": {},
     "output_type": "execute_result"
    }
   ],
   "source": [
    "ad_x = se3.ad_matrix(x_test)\n",
    "ad_x@y_test  #ad_x@y_test"
   ]
  },
  {
   "cell_type": "code",
   "execution_count": 10,
   "metadata": {},
   "outputs": [
    {
     "data": {
      "text/plain": [
       "SX([-0.6, 1.2, -0.6, -0.03, 0.06, -0.03])"
      ]
     },
     "execution_count": 10,
     "metadata": {},
     "output_type": "execute_result"
    }
   ],
   "source": [
    "ad_y =se3.ad_matrix(y_test)\n",
    "-1* ad_y@x_test #-1 * ad(y) * x_test"
   ]
  },
  {
   "cell_type": "code",
   "execution_count": null,
   "metadata": {},
   "outputs": [],
   "source": []
  }
 ],
 "metadata": {
  "kernelspec": {
   "display_name": "Python 3",
   "language": "python",
   "name": "python3"
  },
  "language_info": {
   "codemirror_mode": {
    "name": "ipython",
    "version": 3
   },
   "file_extension": ".py",
   "mimetype": "text/x-python",
   "name": "python",
   "nbconvert_exporter": "python",
   "pygments_lexer": "ipython3",
   "version": "3.10.6"
  },
  "orig_nbformat": 4
 },
 "nbformat": 4,
 "nbformat_minor": 2
}
