{
 "cells": [
  {
   "cell_type": "code",
   "execution_count": 207,
   "metadata": {},
   "outputs": [],
   "source": [
    "import numpy as np\n",
    "import casadi as ca\n",
    "from SE3Lie_ca import se3, SE3, dot_plot_draw, so3_wedge, so3_vee\n",
    "\n",
    "#http://asrl.utias.utoronto.ca/~tdb/bib/barfoot_ser17.pdf"
   ]
  },
  {
   "cell_type": "code",
   "execution_count": 208,
   "metadata": {},
   "outputs": [],
   "source": [
    "pt_true = ca.SX([1,2, 3, 0.1, 0.2, 0.3]) #true location [x y z theta1 theta2 theta3]\n",
    "\n",
    "#Camera from corners in inertial frame\n",
    "pt_cam = (ca.SX([[1,-2,3,1],[1,2,3,1],[1,2,-3,1],[1,-2,-3,1],[-1,2,3,1],[-1,-2,-3,1],[-1,-2,3,1],[-1,2,-3,1]])).T\n",
    "\n",
    "def_weight = ca.SX.ones(8,1) #set weight of each points to ones"
   ]
  },
  {
   "cell_type": "code",
   "execution_count": 209,
   "metadata": {},
   "outputs": [],
   "source": [
    "def find_Tau(T):\n",
    "    '''\n",
    "    Accepts SE3 elements operator (T_op) and find big Adjoint SE(3)\n",
    "    '''\n",
    "    return SE3.Ad(T)"
   ]
  },
  {
   "cell_type": "code",
   "execution_count": 210,
   "metadata": {},
   "outputs": [
    {
     "data": {
      "text/plain": [
       "(SX(@1=0, [@1, @1, @1, 1]), SX(8))"
      ]
     },
     "execution_count": 210,
     "metadata": {},
     "output_type": "execute_result"
    }
   ],
   "source": [
    "def ca_avg(x,w=def_weight):\n",
    "    '''\n",
    "    Find average value (elements of 4 rows) of the given Matrix in Casadi;\n",
    "    return (average_value, total_weight)\n",
    "    '''\n",
    "    sum = 0\n",
    "    W = 0\n",
    "    for i in range(x.shape[1]):\n",
    "        sum += x[:,i]\n",
    "        W += w[i] #assume weight on each camera points is 1\n",
    "    return sum/W ,W\n",
    "\n",
    "\n",
    "\n",
    "ca_avg(pt_cam)"
   ]
  },
  {
   "cell_type": "code",
   "execution_count": 211,
   "metadata": {},
   "outputs": [
    {
     "data": {
      "text/plain": [
       "SX(@1=1, \n",
       "[[3.13266, 2, 0.73885, 1.87151, 0.12849, 1.11022e-16, 1.26115, -1.13266], \n",
       " [0.197678, 4, 4.40819, 0.605865, 3.39413, -2.22045e-16, -0.408188, 3.80232], \n",
       " [5.49066, 6, 0.148258, -0.36108, 6.36108, 0, 5.85174, 0.509338], \n",
       " [@1, @1, @1, @1, @1, @1, @1, @1]])"
      ]
     },
     "execution_count": 211,
     "metadata": {},
     "output_type": "execute_result"
    }
   ],
   "source": [
    "def find_y(pt_cam, pt_true):\n",
    "    '''\n",
    "    Accepts camera points and points of body frame and return the camera frame location from body to each camera\n",
    "    '''\n",
    "    T_true = se3.exp(se3.wedge(pt_true))\n",
    "    yj= ca.SX.zeros(pt_cam.shape[1],4)\n",
    "    w=0\n",
    "    for i in range(pt_cam.shape[1]):\n",
    "        yj[i,0:4] = T_true@pt_cam[:,i]\n",
    "    return yj.T\n",
    "\n",
    "find_y(pt_cam,pt_true)"
   ]
  },
  {
   "cell_type": "code",
   "execution_count": 212,
   "metadata": {},
   "outputs": [],
   "source": [
    "def find_eps_st(pt_cam,pt_true,Top,w = def_weight):\n",
    "    ''' \n",
    "    Find Barfoot epsilon_star term with weight, w, as array weights\n",
    "    '''\n",
    "    C_op = Top[:3,:3]\n",
    "    r_op = -1 * C_op.T@Top[:3,3]\n",
    "\n",
    "    P = ca_avg(pt_cam,w)[0]\n",
    "    W = ca_avg(pt_cam,w)[1]\n",
    "    y = find_y(pt_cam,pt_true)\n",
    "    Y = ca_avg(y,w)[0]\n",
    "    Tau = find_Tau(Top)\n",
    "\n",
    "    ## Finding I term\n",
    "    I = ca.SX.zeros(3,3) \n",
    "    for i in range(pt_cam.shape[1]):\n",
    "        I += w[i]* so3_wedge(pt_cam[:,i]-P)@so3_wedge(pt_cam[:,i]-P)\n",
    "    I = - I/W\n",
    "\n",
    "    ## Finding M term\n",
    "    c1 = ca.vertcat( ca.horzcat(ca.SX.eye(3),ca.SX.zeros(3,3)) , ca.horzcat(so3_wedge(P),ca.SX.eye(3)))\n",
    "    c2 = ca.vertcat( ca.horzcat(ca.SX.eye(3),ca.SX.zeros(3,3)) , ca.horzcat(ca.SX.zeros(3,3),I)  )\n",
    "    c3 = ca.vertcat( ca.horzcat(ca.SX.eye(3),-so3_wedge(P)), ca.horzcat(ca.SX.zeros(3,3),ca.SX.eye(3)))\n",
    "    M = c1@c2@c3\n",
    "\n",
    "    # ## Finding a term using summation method\n",
    "    # A_val = ca.SX.zeros(6,1)\n",
    "    # for i in range(pt_cam.shape[0]):\n",
    "    #     zj = Top@(pt_cam[:,i])\n",
    "    #     # print(ca.horzcat(zj[3]@ca.SX.eye(3),-1*so3_wedge(zj[:3])))\n",
    "    #     zj_circle = (ca.vertcat( \n",
    "    #         ca.horzcat(zj[3]@ca.SX.eye(3),-1*so3_wedge(zj[:3])),\n",
    "    #         ca.SX.zeros(1,6))) #circle notation from barfoot 4x6 matrix\n",
    "    #     A_val += w[i] * zj_circle.T @ ((y[:,i])-zj)\n",
    "    # A_val =  A_val/W\n",
    "    # print(A_val)\n",
    "\n",
    "    ## Finding a term using matrix method\n",
    "    W_term = 0\n",
    "    for i in range(pt_cam.shape[1]):\n",
    "        W_term += w[i] * (y[:,i]-Y)@ca.transpose(pt_cam[:,i]-P)\n",
    "    W_term = W_term/W\n",
    "    \n",
    "    ## Finding b term\n",
    "    b = ca.SX.zeros(1,3)\n",
    "    for i in range(3):\n",
    "        b[i] = ca.trace(so3_wedge(ca.SX.eye(3)[i,:])@C_op@W_term[:3,:3].T)\n",
    "    \n",
    "    ## Find a\n",
    "    t1 = Y[:3]-C_op@(P[:3]-r_op)\n",
    "    t2 = b.T - so3_wedge(Y[:3])@C_op@(P[:3]-r_op)\n",
    "    A_val = ca.vertcat(t1, t2)\n",
    "    \n",
    "    return Tau@ca.inv(M)@Tau.T@A_val\n",
    "\n"
   ]
  },
  {
   "cell_type": "code",
   "execution_count": 213,
   "metadata": {},
   "outputs": [],
   "source": [
    "# initialize = [1,2,3,0.1,0.2,0.3]\n",
    "# lie = se3.from_euler(initialize)\n",
    "# TopNew = se3.exp(lie)\n",
    "# TopNew"
   ]
  },
  {
   "cell_type": "code",
   "execution_count": 214,
   "metadata": {},
   "outputs": [
    {
     "data": {
      "text/plain": [
       "SX([1, 2, 3, 0.0862785, 0.207227, 0.287119])"
      ]
     },
     "execution_count": 214,
     "metadata": {},
     "output_type": "execute_result"
    }
   ],
   "source": [
    "R_op = ca.SX.eye(3)\n",
    "t_op = ca.SX.zeros(3,1)\n",
    "\n",
    "#initialized T_op\n",
    "T_op = ca.vertcat(ca.horzcat(R_op, -R_op@t_op),ca.horzcat(ca.SX.zeros(1,R_op.shape[1]),1))\n",
    "\n",
    "find_eps_st(pt_cam,pt_true,T_op)"
   ]
  },
  {
   "cell_type": "code",
   "execution_count": 215,
   "metadata": {},
   "outputs": [],
   "source": [
    "counter = 0\n",
    "while counter < 4:\n",
    "    eps_st = find_eps_st(pt_cam,pt_true,T_op)\n",
    "    lieAlg = SE3.log(T_op) #Convert o Lie algebra element using log map\n",
    "    T_op = se3.exp(se3.ad_matrix(eps_st)) @ T_op\n",
    "    counter += 1"
   ]
  },
  {
   "cell_type": "code",
   "execution_count": 216,
   "metadata": {},
   "outputs": [
    {
     "data": {
      "text/plain": [
       "SX([0.1, 0.2, 0.3])"
      ]
     },
     "execution_count": 216,
     "metadata": {},
     "output_type": "execute_result"
    }
   ],
   "source": [
    "so3_vee(lieAlg)"
   ]
  },
  {
   "cell_type": "code",
   "execution_count": 217,
   "metadata": {},
   "outputs": [
    {
     "data": {
      "text/plain": [
       "SX(@1=0, \n",
       "[[00, -0.3, 0.2, 0.572292], \n",
       " [0.3, 00, -0.1, 11.8026], \n",
       " [-0.2, 0.1, 00, 4.50497], \n",
       " [@1, @1, @1, @1]])"
      ]
     },
     "execution_count": 217,
     "metadata": {},
     "output_type": "execute_result"
    }
   ],
   "source": [
    "lieAlg"
   ]
  },
  {
   "cell_type": "code",
   "execution_count": 218,
   "metadata": {},
   "outputs": [
    {
     "data": {
      "text/plain": [
       "SX([0.1, 0.2, 0.3, 0.572292, 11.8026, 4.50497])"
      ]
     },
     "execution_count": 218,
     "metadata": {},
     "output_type": "execute_result"
    }
   ],
   "source": [
    "''' \n",
    "Final Converged Value is\n",
    "'''\n",
    "\n",
    "ca.vertcat(so3_vee(lieAlg),lieAlg[:3,3])"
   ]
  },
  {
   "cell_type": "code",
   "execution_count": null,
   "metadata": {},
   "outputs": [],
   "source": []
  }
 ],
 "metadata": {
  "kernelspec": {
   "display_name": "Python 3",
   "language": "python",
   "name": "python3"
  },
  "language_info": {
   "codemirror_mode": {
    "name": "ipython",
    "version": 3
   },
   "file_extension": ".py",
   "mimetype": "text/x-python",
   "name": "python",
   "nbconvert_exporter": "python",
   "pygments_lexer": "ipython3",
   "version": "3.10.6"
  },
  "orig_nbformat": 4
 },
 "nbformat": 4,
 "nbformat_minor": 2
}
