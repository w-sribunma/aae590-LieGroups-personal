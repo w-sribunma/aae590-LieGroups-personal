{
 "cells": [
  {
   "cell_type": "code",
   "execution_count": 134,
   "metadata": {},
   "outputs": [],
   "source": [
    "from SE3Lie_ca import se3, SE3, dot_plot_draw, so3_wedge, so3_vee\n",
    "import casadi as ca\n",
    "\n",
    "#http://asrl.utias.utoronto.ca/~tdb/bib/barfoot_ser17.pdf"
   ]
  },
  {
   "cell_type": "code",
   "execution_count": 135,
   "metadata": {},
   "outputs": [],
   "source": [
    "pts = ca.SX([1,2, 3, 0.1, 0.2, 0.3]) #true location [x y z theta1 theta2 theta3]\n",
    "pt_cam = ca.SX([[1,-2,3],[1,2,3],[1,2,-3],[1,-2,-3],[-1,2,3],[-1,-2,-3],[-1,-2,3],[-1,2,-3]]) #Camera from corners in inertial frame\n",
    "\n",
    "# pt_guess = ca.SX([])\n"
   ]
  },
  {
   "cell_type": "code",
   "execution_count": 136,
   "metadata": {},
   "outputs": [],
   "source": [
    "def T_op_rt(T):\n",
    "    '''\n",
    "    Accepts T_op Matrix and split to R and t terms\n",
    "    '''\n",
    "    R_op = T[:3,:3]\n",
    "    t_op = T[:3,3]\n",
    "    # T_op = ca.vertcat(ca.horzcat(R_op, -R_op@t_op),ca.horzcat(ca.SX.zeros(1,R_op.shape[1]),1))\n",
    "    return R_op,t_op\n",
    "\n",
    "def Tau_op(T):\n",
    "    '''\n",
    "    Accepts SE3 elements operator (T_op) and find big Adjoint SE(3)\n",
    "    '''\n",
    "    return SE3.Ad(T)\n",
    "\n",
    "\n",
    "# R_op = so3_wedge([0.1,0.2,0.3])#ca.SX.eye(3)\n",
    "# t_op = ca.SX.zeros(3,1)\n",
    "# t_op[0:3] = [1,2,3]\n",
    "# T_op = ca.vertcat(ca.horzcat(R_op, -R_op@t_op),ca.horzcat(ca.SX.zeros(1,R_op.shape[1]),1))\n",
    "# T_op"
   ]
  },
  {
   "cell_type": "code",
   "execution_count": 137,
   "metadata": {},
   "outputs": [
    {
     "data": {
      "text/plain": [
       "SX(@1=0, [@1, @1, @1, 1])"
      ]
     },
     "execution_count": 137,
     "metadata": {},
     "output_type": "execute_result"
    }
   ],
   "source": [
    "# wj = 1 #weight on each points\n",
    "\n",
    "def p_sum(pt_cam):\n",
    "    '''\n",
    "    Accepts points from camera frame to origin and outputs 1x3 matrix for p location and w_sum\n",
    "    '''\n",
    "    p = 0\n",
    "    w = 0\n",
    "    for i in range(pt_cam.shape[0]):\n",
    "        p += pt_cam[i,:]\n",
    "        w += 1 #assume weight on each camera points is 1\n",
    "    return ca.horzcat(p,[1]).T,w\n",
    "p_sum(pt_cam)[0]"
   ]
  },
  {
   "cell_type": "code",
   "execution_count": 138,
   "metadata": {},
   "outputs": [
    {
     "data": {
      "text/plain": [
       "SX(\n",
       "[[00, -3, 2], \n",
       " [3, 00, -1], \n",
       " [-2, 1, 00]])"
      ]
     },
     "execution_count": 138,
     "metadata": {},
     "output_type": "execute_result"
    }
   ],
   "source": [
    "pt_cam[1,:]\n",
    "pj = ca.horzcat(pt_cam[1,:],1).T\n",
    "so3_wedge(pj-p_sum(pt_cam)[0])\n"
   ]
  },
  {
   "cell_type": "code",
   "execution_count": 139,
   "metadata": {},
   "outputs": [
    {
     "data": {
      "text/plain": [
       "SX(@1=0, \n",
       "[[13, @1, @1], \n",
       " [@1, 10, @1], \n",
       " [@1, @1, 5]])"
      ]
     },
     "execution_count": 139,
     "metadata": {},
     "output_type": "execute_result"
    }
   ],
   "source": [
    "def I_term(pt_cam):\n",
    "    '''\n",
    "    Accepts matrix array of points from camera frame to origin and ouputs I_term\n",
    "    '''\n",
    "    I = ca.SX.zeros(3,1)\n",
    "    P = p_sum(pt_cam)[0]\n",
    "    # display(P)\n",
    "    w = p_sum(pt_cam)[1]\n",
    "    w = 0\n",
    "    wj =1\n",
    "    sum_term = ca.SX.zeros(3,3) \n",
    "    for i in range(pt_cam.shape[0]):\n",
    "        pj = ca.horzcat(pt_cam[i,:],1).T\n",
    "        sum_term += wj* so3_wedge(pj-P)@so3_wedge(pj-P)\n",
    "        w += 1\n",
    "        # display(sum_term)\n",
    "    return - sum_term/w\n",
    "## should pj term be 4x4?\n",
    "I = I_term(pt_cam)\n",
    "I"
   ]
  },
  {
   "cell_type": "code",
   "execution_count": 140,
   "metadata": {},
   "outputs": [
    {
     "data": {
      "text/plain": [
       "SX(@1=1, @2=0, \n",
       "[[@1, @2, @2, @2, @2, @2], \n",
       " [@2, @1, @2, @2, @2, @2], \n",
       " [@2, @2, @1, @2, @2, @2], \n",
       " [@2, @2, @2, 13, @2, @2], \n",
       " [@2, @2, @2, @2, 10, @2], \n",
       " [@2, @2, @2, @2, @2, 5]])"
      ]
     },
     "execution_count": 140,
     "metadata": {},
     "output_type": "execute_result"
    }
   ],
   "source": [
    "def M_mat(pt_cam):\n",
    "    p = p_sum(pt_cam)[0]\n",
    "    I = I_term(pt_cam)\n",
    "    c1 = ca.vertcat( ca.horzcat(ca.SX.eye(3),ca.SX.zeros(3,3)) , ca.horzcat(so3_wedge(p),ca.SX.eye(3)))\n",
    "    c2 = ca.vertcat( ca.horzcat(ca.SX.eye(3),ca.SX.zeros(3,3)) , ca.horzcat(ca.SX.zeros(3,3),I)  )\n",
    "    c3 = ca.vertcat( ca.horzcat(ca.SX.eye(3),-so3_wedge(p)), ca.horzcat(ca.SX.zeros(3,3),ca.SX.eye(3)))\n",
    "    return c1@c2@c3\n",
    "\n",
    "M = M_mat(pt_cam)\n",
    "M"
   ]
  },
  {
   "cell_type": "code",
   "execution_count": 141,
   "metadata": {},
   "outputs": [
    {
     "data": {
      "text/plain": [
       "SX(@1=1, \n",
       "[[3.13266, 0.197678, 5.49066, @1], \n",
       " [2, 4, 6, @1], \n",
       " [0.73885, 4.40819, 0.148258, @1], \n",
       " [1.87151, 0.605865, -0.36108, @1], \n",
       " [0.12849, 3.39413, 6.36108, @1], \n",
       " [1.11022e-16, -2.22045e-16, 0, @1], \n",
       " [1.26115, -0.408188, 5.85174, @1], \n",
       " [-1.13266, 3.80232, 0.509338, @1]])"
      ]
     },
     "execution_count": 141,
     "metadata": {},
     "output_type": "execute_result"
    }
   ],
   "source": [
    "def calc_y(pt_cam):\n",
    "    '''\n",
    "    Accepts camera points and points of body frame and return the camera frame location from body to each camera\n",
    "    '''\n",
    "    true_loc = [1, 2, 3, 0.1, 0.2, 0.3] #True position in [x y z theta1 theta2 theta3]\n",
    "    R_t = true_loc[3:] #True rotational terms\n",
    "    t_t = true_loc[:3] #true translational terms\n",
    "    T_true = se3.exp(se3.wedge(true_loc))\n",
    "    # T_true[1,2] = T_true[1,2]/2\n",
    "    w= 0\n",
    "    yj= ca.SX.zeros(8,4)\n",
    "    # display(T_true)\n",
    "    for i in range(pt_cam.shape[0]):\n",
    "        pj = ca.horzcat(pt_cam[i,:],1).T\n",
    "        yj[i,0:4] = T_true@pj\n",
    "        w += 1 #assume weight on each camera points is 1\n",
    "    return yj, w\n",
    "\n",
    "calc_y(pt_cam)[0]"
   ]
  },
  {
   "cell_type": "code",
   "execution_count": 142,
   "metadata": {},
   "outputs": [
    {
     "data": {
      "text/plain": [
       "(SX([1, 2, 3, 1]), 8)"
      ]
     },
     "execution_count": 142,
     "metadata": {},
     "output_type": "execute_result"
    }
   ],
   "source": [
    "# ca.horzcat(test.T,(ca.SX.zeros(test.shape[0],1))).T\n",
    "\n",
    "def y_sum(pt_cam): #use calc_y function for pt_y\n",
    "    '''\n",
    "    Accepts measured points from body frame and outputs 1x3 matrix for p location and w_sum\n",
    "    y_sum term eqn 8.105\n",
    "    '''\n",
    "    y = 0\n",
    "    w = 0\n",
    "    dist_y = calc_y(pt_cam)[0]\n",
    "    for i in range(dist_y.shape[0]):\n",
    "        y += dist_y[i,:]\n",
    "        w += 1      #assume weight on each camera points is 1\n",
    "    return y.T/w,w\n",
    "\n",
    "y_s = y_sum(pt_cam)\n",
    "y_s\n",
    "# pt_guess\n",
    "# calc_y(pt_cam,pt_guess)[1,:]"
   ]
  },
  {
   "cell_type": "code",
   "execution_count": 143,
   "metadata": {},
   "outputs": [
    {
     "data": {
      "text/plain": [
       "SX(@1=0, \n",
       "[[0.935755, -1.13266, 1.89173, @1], \n",
       " [0.302933, 3.80232, -0.612282, @1], \n",
       " [-0.18054, 0.509338, 8.77761, @1], \n",
       " [@1, @1, @1, @1]])"
      ]
     },
     "execution_count": 143,
     "metadata": {},
     "output_type": "execute_result"
    }
   ],
   "source": [
    "def W_term(pt_cam):\n",
    "    '''\n",
    "    Accepts matrix array of points from camera to origin inertial frame and y distance in body frame **FIX**\n",
    "    Accepts camera points and poitns of body frame in inertial frame and calculate W_term\n",
    "    and ouputs W_term\n",
    "    '''\n",
    "    I = ca.SX.zeros(3,1)\n",
    "    P = p_sum(pt_cam)[0]\n",
    "    w = p_sum(pt_cam)[1]\n",
    "    yj = calc_y(pt_cam)[0].T\n",
    "    Y = y_sum(pt_cam)[0] #sum of y\n",
    "\n",
    "    W = 0\n",
    "    sum_term = ca.SX.zeros(4,4)\n",
    "    for i in range(pt_cam.shape[0]):\n",
    "        pj = ca.horzcat(pt_cam[i,:],1).T\n",
    "        sum_term += (yj[:,i]-Y)@ca.transpose(pj-P)\n",
    "        W += 1\n",
    "    return sum_term/W\n",
    "W_term(pt_cam)"
   ]
  },
  {
   "cell_type": "code",
   "execution_count": 144,
   "metadata": {},
   "outputs": [
    {
     "data": {
      "text/plain": [
       "SX(@1=1, @2=0, \n",
       "[[@1, 00, 00, @2], \n",
       " [00, @1, 00, @2], \n",
       " [00, 00, @1, @2], \n",
       " [@2, @2, @2, @1]])"
      ]
     },
     "execution_count": 144,
     "metadata": {},
     "output_type": "execute_result"
    }
   ],
   "source": [
    "# running loops until convergence\n",
    "\n",
    "\n",
    "R_op = ca.SX.eye(3)\n",
    "t_op = ca.SX.zeros(3,1)\n",
    "\n",
    "# Initial = ca.SX.zeros(6,1)\n",
    "# R_op= so3_wedge(Initial[3:])\n",
    "# t_op = Initial[:3]\n",
    "\n",
    "T_op1 = ca.vertcat(ca.horzcat(R_op, -R_op.T@t_op),ca.horzcat(ca.SX.zeros(1,R_op.shape[1]),1))\n",
    "T_op1\n"
   ]
  },
  {
   "cell_type": "code",
   "execution_count": 145,
   "metadata": {},
   "outputs": [],
   "source": [
    "def b_term(pt_cam, Top):\n",
    "    W_t = ca.transpose( W_term(pt_cam)[:3,:3] ) #3x3 of W_terms\n",
    "    C_op_term = Top[:3,:3]\n",
    "    ident = ca.SX.eye(W_t.shape[0]) #Check what one should be\n",
    "    b = ca.SX.zeros(1,3)\n",
    "    for i in range(3):\n",
    "        b[i] = ca.trace(so3_wedge(ident[i,:])@C_op_term@W_t)\n",
    "    return b\n",
    "\n",
    "b_term(pt_cam, T_op1)\n",
    "\n",
    "def find_a(pt_cam,Top):\n",
    "    # y = calc_y(pt_cam)[0]\n",
    "    y = y_sum(pt_cam)[0]\n",
    "    C_op_term = Top[:3,:3]\n",
    "    r_op_term  = -C_op_term@Top[:3,3] #####\n",
    "    P = p_sum(pt_cam)[0]\n",
    "    b = b_term(pt_cam,Top)\n",
    "    \n",
    "    t1 = y[:3] - C_op_term@(P[:3]-r_op_term) #rop and Cop already calculated for Top\n",
    "    t2 = b.T - so3_wedge(y)@C_op_term@(P[:3]-r_op_term)\n",
    "    return ca.vertcat(t1,t2)\n",
    "    # t1 = y[:3] - C_op_term@(P[:3]-r_op_term) #check if y supposed to be [:3]\n",
    "    # t2 = b.T - so3_wedge(y)@C_op_term@(P[:3]-r_op_term)\n",
    "    # return ca.vertcat(t1,t2)\n",
    "\n",
    "\n",
    "# l1 = find_a(pt_cam,T_op1)\n",
    "# l1"
   ]
  },
  {
   "cell_type": "code",
   "execution_count": 146,
   "metadata": {},
   "outputs": [
    {
     "data": {
      "text/plain": [
       "SX([-0.344787, -0.0465596, 0.623339])"
      ]
     },
     "execution_count": 146,
     "metadata": {},
     "output_type": "execute_result"
    }
   ],
   "source": [
    "counter = 0\n",
    "T_last1 = T_op1\n",
    "while counter < 5:\n",
    "    a_sum = find_a(pt_cam,T_op1)\n",
    "    TauOp1 = SE3.Ad(T_op1)\n",
    "    eps_st = TauOp1 @ ca.inv(M_mat(pt_cam)) @ TauOp1.T @ a_sum\n",
    "    T_op1 = se3.exp(se3.ad_matrix(eps_st)) @ T_last1\n",
    "    T_last1 = T_op1\n",
    "    counter += 1\n",
    "\n",
    "so3_vee(T_op1[:3,:3])\n"
   ]
  },
  {
   "cell_type": "code",
   "execution_count": 147,
   "metadata": {},
   "outputs": [
    {
     "data": {
      "text/plain": [
       "SX([7679.25, -12918.4, 11264])"
      ]
     },
     "execution_count": 147,
     "metadata": {},
     "output_type": "execute_result"
    }
   ],
   "source": [
    "T_op1[:3,3]"
   ]
  },
  {
   "cell_type": "code",
   "execution_count": 148,
   "metadata": {},
   "outputs": [
    {
     "data": {
      "text/plain": [
       "SX(@1=1, @2=0, \n",
       "[[@1, 00, 00, @2], \n",
       " [00, @1, 00, @2], \n",
       " [00, 00, @1, @2], \n",
       " [@2, @2, @2, @1]])"
      ]
     },
     "execution_count": 148,
     "metadata": {},
     "output_type": "execute_result"
    }
   ],
   "source": [
    "#Initialize T_op\n",
    "# R_op = so3_wedge([0.1,0.2,0.3]) #so3_wedge(ca.SX.zeros(3,1))#ca.SX.eye(3)\n",
    "R_op = ca.SX.eye(3)\n",
    "t_op = ca.SX.zeros(3,1)\n",
    "\n",
    "T_op = ca.vertcat(ca.horzcat(R_op, -R_op@t_op),ca.horzcat(ca.SX.zeros(1,R_op.shape[1]),1))\n",
    "T_op"
   ]
  },
  {
   "cell_type": "code",
   "execution_count": 149,
   "metadata": {},
   "outputs": [
    {
     "data": {
      "text/plain": [
       "SX([1, 2, 3, 1.12162, 2.07227, 1.43559])"
      ]
     },
     "execution_count": 149,
     "metadata": {},
     "output_type": "execute_result"
    }
   ],
   "source": [
    "### another way to calculate a using summation method\n",
    "\n",
    "def a_new_sum(pt_cam, Top):\n",
    "    '''\n",
    "    Accepts points to camera in inertial frame and p guess calcualte a matrix\n",
    "    '''\n",
    "\n",
    "    I = ca.SX.zeros(3,1)\n",
    "    p = p_sum(pt_cam)[0]\n",
    "    w = 0\n",
    "    yj = calc_y(pt_cam)[0].T\n",
    "    y = y_sum(pt_cam)[0] #sum of y\n",
    "    pj = ca.horzcat(pt_cam,ca.SX.ones(pt_cam.shape[0],1)).T\n",
    "    sum_terms = ca.SX.zeros(6,1)\n",
    "    for i in range(pt_cam.shape[0]):\n",
    "        zj = Top@(pj[:,i])\n",
    "        # print(ca.horzcat(zj[3]@ca.SX.eye(3),-1*so3_wedge(zj[:3])))\n",
    "        zj_circle = (ca.vertcat( \n",
    "            ca.horzcat(zj[3]@ca.SX.eye(3),-1*so3_wedge(zj[:3])),\n",
    "            ca.SX.zeros(1,6))) #circle notation from barfoot 4x6 matrix\n",
    "        sum_terms += zj_circle.T @ ((yj[:,i])-zj)\n",
    "        w += 1\n",
    "    return sum_terms / w\n",
    "\n",
    "a_new_sum(pt_cam, T_op)"
   ]
  },
  {
   "cell_type": "code",
   "execution_count": 150,
   "metadata": {},
   "outputs": [],
   "source": [
    "## Test iteration using summation of a\n",
    "counter = 0\n",
    "T_last = T_op\n",
    "while counter < 10:\n",
    "    a_sum = a_new_sum(pt_cam,T_op)\n",
    "    Tau = Tau_op(T_op)\n",
    "    eps_st = Tau @ ca.inv(M_mat(pt_cam)) @ Tau.T @ a_sum\n",
    "    T_op = se3.exp(se3.ad_matrix(eps_st)) @ T_last\n",
    "    T_last = T_op\n",
    "    counter += 1\n",
    "# T_op"
   ]
  },
  {
   "cell_type": "code",
   "execution_count": 151,
   "metadata": {},
   "outputs": [
    {
     "data": {
      "text/plain": [
       "SX(@1=0, \n",
       "[[00, -0.3, 0.2, 19.2202], \n",
       " [0.3, 00, -0.1, 91.2597], \n",
       " [-0.2, 0.1, 00, -60.3246], \n",
       " [@1, @1, @1, @1]])"
      ]
     },
     "execution_count": 151,
     "metadata": {},
     "output_type": "execute_result"
    }
   ],
   "source": [
    "SE3.log(T_op)"
   ]
  },
  {
   "cell_type": "code",
   "execution_count": 152,
   "metadata": {},
   "outputs": [
    {
     "data": {
      "text/plain": [
       "SX([0.127335, 0.210192, 0.302933])"
      ]
     },
     "execution_count": 152,
     "metadata": {},
     "output_type": "execute_result"
    }
   ],
   "source": [
    "angles = so3_vee(T_op[:3,:3])\n",
    "angles"
   ]
  },
  {
   "cell_type": "code",
   "execution_count": null,
   "metadata": {},
   "outputs": [],
   "source": []
  }
 ],
 "metadata": {
  "kernelspec": {
   "display_name": "Python 3",
   "language": "python",
   "name": "python3"
  },
  "language_info": {
   "codemirror_mode": {
    "name": "ipython",
    "version": 3
   },
   "file_extension": ".py",
   "mimetype": "text/x-python",
   "name": "python",
   "nbconvert_exporter": "python",
   "pygments_lexer": "ipython3",
   "version": "3.10.6"
  },
  "orig_nbformat": 4,
  "vscode": {
   "interpreter": {
    "hash": "e7370f93d1d0cde622a1f8e1c04877d8463912d04d973331ad4851f04de6915a"
   }
  }
 },
 "nbformat": 4,
 "nbformat_minor": 2
}
